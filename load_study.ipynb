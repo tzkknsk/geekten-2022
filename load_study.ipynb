{
 "cells": [
  {
   "cell_type": "code",
   "execution_count": 1,
   "metadata": {},
   "outputs": [],
   "source": [
    "#### Module\n",
    "import os\n",
    "import subprocess\n",
    "\n",
    "import pandas as pd\n",
    "import matplotlib.pyplot as plt\n",
    "import optuna\n",
    "\n",
    "from objective import create_protocol, evaluate"
   ]
  },
  {
   "cell_type": "code",
   "execution_count": 2,
   "metadata": {},
   "outputs": [],
   "source": [
    "### config\n",
    "PATH_LOG = os.getcwd() + '/data'\n",
    "PATH_SCRIPT = os.getcwd() + '/source'"
   ]
  },
  {
   "cell_type": "code",
   "execution_count": 3,
   "metadata": {},
   "outputs": [],
   "source": [
    "### load study\n",
    "study = optuna.load_study(study_name=\"study_turquoise\", storage=f\"sqlite:///{PATH_LOG}/geekten.db\")"
   ]
  },
  {
   "cell_type": "code",
   "execution_count": 4,
   "metadata": {},
   "outputs": [
    {
     "data": {
      "text/html": "<div>\n<style scoped>\n    .dataframe tbody tr th:only-of-type {\n        vertical-align: middle;\n    }\n\n    .dataframe tbody tr th {\n        vertical-align: top;\n    }\n\n    .dataframe thead th {\n        text-align: right;\n    }\n</style>\n<table border=\"1\" class=\"dataframe\">\n  <thead>\n    <tr style=\"text-align: right;\">\n      <th></th>\n      <th>number</th>\n      <th>value</th>\n      <th>datetime_start</th>\n      <th>datetime_complete</th>\n      <th>duration</th>\n      <th>params_body_blue</th>\n      <th>params_body_green</th>\n      <th>params_body_red</th>\n      <th>state</th>\n    </tr>\n  </thead>\n  <tbody>\n    <tr>\n      <th>0</th>\n      <td>0</td>\n      <td>2.501745</td>\n      <td>2022-09-03 23:43:22.501738</td>\n      <td>2022-09-04 00:01:26.354582</td>\n      <td>0 days 00:18:03.852844</td>\n      <td>3</td>\n      <td>0</td>\n      <td>147</td>\n      <td>COMPLETE</td>\n    </tr>\n    <tr>\n      <th>1</th>\n      <td>1</td>\n      <td>0.765122</td>\n      <td>2022-09-04 00:01:55.529998</td>\n      <td>2022-09-04 00:25:23.703367</td>\n      <td>0 days 00:23:28.173369</td>\n      <td>17</td>\n      <td>67</td>\n      <td>66</td>\n      <td>COMPLETE</td>\n    </tr>\n    <tr>\n      <th>2</th>\n      <td>2</td>\n      <td>1.971633</td>\n      <td>2022-09-04 00:26:54.939395</td>\n      <td>2022-09-04 00:47:31.185316</td>\n      <td>0 days 00:20:36.245921</td>\n      <td>27</td>\n      <td>9</td>\n      <td>114</td>\n      <td>COMPLETE</td>\n    </tr>\n    <tr>\n      <th>3</th>\n      <td>3</td>\n      <td>0.669338</td>\n      <td>2022-09-04 00:48:09.240701</td>\n      <td>2022-09-04 01:21:30.272023</td>\n      <td>0 days 00:33:21.031322</td>\n      <td>88</td>\n      <td>13</td>\n      <td>49</td>\n      <td>COMPLETE</td>\n    </tr>\n    <tr>\n      <th>4</th>\n      <td>4</td>\n      <td>0.627134</td>\n      <td>2022-09-04 01:23:48.263438</td>\n      <td>2022-09-04 01:50:13.916778</td>\n      <td>0 days 00:26:25.653340</td>\n      <td>50</td>\n      <td>45</td>\n      <td>55</td>\n      <td>COMPLETE</td>\n    </tr>\n    <tr>\n      <th>5</th>\n      <td>5</td>\n      <td>1.034776</td>\n      <td>2022-09-04 01:50:46.182960</td>\n      <td>2022-09-04 02:15:10.242480</td>\n      <td>0 days 00:24:24.059520</td>\n      <td>89</td>\n      <td>9</td>\n      <td>52</td>\n      <td>COMPLETE</td>\n    </tr>\n    <tr>\n      <th>6</th>\n      <td>6</td>\n      <td>2.531494</td>\n      <td>2022-09-04 02:15:46.766809</td>\n      <td>2022-09-04 02:39:22.789792</td>\n      <td>0 days 00:23:36.022983</td>\n      <td>2</td>\n      <td>1</td>\n      <td>147</td>\n      <td>COMPLETE</td>\n    </tr>\n    <tr>\n      <th>7</th>\n      <td>7</td>\n      <td>0.690401</td>\n      <td>2022-09-04 02:41:38.435672</td>\n      <td>2022-09-04 03:02:39.289278</td>\n      <td>0 days 00:21:00.853606</td>\n      <td>77</td>\n      <td>54</td>\n      <td>19</td>\n      <td>COMPLETE</td>\n    </tr>\n    <tr>\n      <th>8</th>\n      <td>8</td>\n      <td>0.923335</td>\n      <td>2022-09-04 03:03:53.440194</td>\n      <td>2022-09-04 03:26:39.831281</td>\n      <td>0 days 00:22:46.391087</td>\n      <td>45</td>\n      <td>73</td>\n      <td>32</td>\n      <td>COMPLETE</td>\n    </tr>\n    <tr>\n      <th>9</th>\n      <td>9</td>\n      <td>0.645044</td>\n      <td>2022-09-04 03:27:19.074550</td>\n      <td>2022-09-04 03:49:19.618357</td>\n      <td>0 days 00:22:00.543807</td>\n      <td>85</td>\n      <td>19</td>\n      <td>46</td>\n      <td>COMPLETE</td>\n    </tr>\n    <tr>\n      <th>10</th>\n      <td>10</td>\n      <td>1.745189</td>\n      <td>2022-09-04 03:50:14.880370</td>\n      <td>2022-09-04 04:07:59.978904</td>\n      <td>0 days 00:17:45.098534</td>\n      <td>14</td>\n      <td>136</td>\n      <td>0</td>\n      <td>COMPLETE</td>\n    </tr>\n    <tr>\n      <th>11</th>\n      <td>11</td>\n      <td>1.207636</td>\n      <td>2022-09-04 04:08:33.645681</td>\n      <td>2022-09-04 04:31:41.645532</td>\n      <td>0 days 00:23:07.999851</td>\n      <td>29</td>\n      <td>30</td>\n      <td>91</td>\n      <td>COMPLETE</td>\n    </tr>\n    <tr>\n      <th>12</th>\n      <td>12</td>\n      <td>1.127566</td>\n      <td>2022-09-04 04:32:39.609302</td>\n      <td>2022-09-04 04:53:31.412090</td>\n      <td>0 days 00:20:51.802788</td>\n      <td>28</td>\n      <td>34</td>\n      <td>88</td>\n      <td>COMPLETE</td>\n    </tr>\n    <tr>\n      <th>13</th>\n      <td>13</td>\n      <td>0.859750</td>\n      <td>2022-09-04 04:54:11.372302</td>\n      <td>2022-09-04 05:16:01.751245</td>\n      <td>0 days 00:21:50.378943</td>\n      <td>74</td>\n      <td>43</td>\n      <td>33</td>\n      <td>COMPLETE</td>\n    </tr>\n    <tr>\n      <th>14</th>\n      <td>14</td>\n      <td>0.847440</td>\n      <td>2022-09-04 05:16:29.015656</td>\n      <td>2022-09-04 05:38:33.888355</td>\n      <td>0 days 00:22:04.872699</td>\n      <td>54</td>\n      <td>23</td>\n      <td>73</td>\n      <td>COMPLETE</td>\n    </tr>\n    <tr>\n      <th>15</th>\n      <td>15</td>\n      <td>1.381770</td>\n      <td>2022-09-04 05:39:20.337596</td>\n      <td>2022-09-04 05:59:29.121829</td>\n      <td>0 days 00:20:08.784233</td>\n      <td>26</td>\n      <td>20</td>\n      <td>104</td>\n      <td>COMPLETE</td>\n    </tr>\n    <tr>\n      <th>16</th>\n      <td>16</td>\n      <td>0.814193</td>\n      <td>2022-09-04 06:00:03.269681</td>\n      <td>2022-09-04 06:23:08.494993</td>\n      <td>0 days 00:23:05.225312</td>\n      <td>45</td>\n      <td>51</td>\n      <td>54</td>\n      <td>COMPLETE</td>\n    </tr>\n    <tr>\n      <th>17</th>\n      <td>17</td>\n      <td>1.809965</td>\n      <td>2022-09-04 06:23:48.367974</td>\n      <td>2022-09-04 06:44:28.746998</td>\n      <td>0 days 00:20:40.379024</td>\n      <td>47</td>\n      <td>93</td>\n      <td>10</td>\n      <td>COMPLETE</td>\n    </tr>\n    <tr>\n      <th>18</th>\n      <td>18</td>\n      <td>1.202258</td>\n      <td>2022-09-04 06:45:08.670075</td>\n      <td>2022-09-04 07:06:33.534624</td>\n      <td>0 days 00:21:24.864549</td>\n      <td>29</td>\n      <td>87</td>\n      <td>34</td>\n      <td>COMPLETE</td>\n    </tr>\n    <tr>\n      <th>19</th>\n      <td>19</td>\n      <td>0.765357</td>\n      <td>2022-09-04 07:07:03.844835</td>\n      <td>2022-09-04 07:30:15.930612</td>\n      <td>0 days 00:23:12.085777</td>\n      <td>46</td>\n      <td>40</td>\n      <td>64</td>\n      <td>COMPLETE</td>\n    </tr>\n    <tr>\n      <th>20</th>\n      <td>20</td>\n      <td>1.935961</td>\n      <td>2022-09-04 07:30:53.631613</td>\n      <td>2022-09-04 07:49:35.985238</td>\n      <td>0 days 00:18:42.353625</td>\n      <td>25</td>\n      <td>5</td>\n      <td>120</td>\n      <td>COMPLETE</td>\n    </tr>\n    <tr>\n      <th>21</th>\n      <td>21</td>\n      <td>0.643017</td>\n      <td>2022-09-04 07:50:02.173665</td>\n      <td>2022-09-04 08:11:41.134625</td>\n      <td>0 days 00:21:38.960960</td>\n      <td>80</td>\n      <td>21</td>\n      <td>49</td>\n      <td>COMPLETE</td>\n    </tr>\n    <tr>\n      <th>22</th>\n      <td>22</td>\n      <td>0.614106</td>\n      <td>2022-09-04 08:12:15.957128</td>\n      <td>2022-09-04 08:35:44.499687</td>\n      <td>0 days 00:23:28.542559</td>\n      <td>85</td>\n      <td>25</td>\n      <td>40</td>\n      <td>COMPLETE</td>\n    </tr>\n    <tr>\n      <th>23</th>\n      <td>23</td>\n      <td>0.856685</td>\n      <td>2022-09-04 08:36:24.434656</td>\n      <td>2022-09-04 09:01:13.148120</td>\n      <td>0 days 00:24:48.713464</td>\n      <td>73</td>\n      <td>54</td>\n      <td>23</td>\n      <td>COMPLETE</td>\n    </tr>\n    <tr>\n      <th>24</th>\n      <td>24</td>\n      <td>1.149992</td>\n      <td>2022-09-04 09:01:42.965353</td>\n      <td>2022-09-04 09:22:50.097560</td>\n      <td>0 days 00:21:07.132207</td>\n      <td>41</td>\n      <td>27</td>\n      <td>82</td>\n      <td>COMPLETE</td>\n    </tr>\n    <tr>\n      <th>25</th>\n      <td>25</td>\n      <td>0.927107</td>\n      <td>2022-09-04 09:23:13.341603</td>\n      <td>2022-09-04 09:46:06.145241</td>\n      <td>0 days 00:22:52.803638</td>\n      <td>55</td>\n      <td>32</td>\n      <td>63</td>\n      <td>COMPLETE</td>\n    </tr>\n    <tr>\n      <th>26</th>\n      <td>26</td>\n      <td>0.887931</td>\n      <td>2022-09-04 09:46:53.560655</td>\n      <td>2022-09-04 10:08:47.742222</td>\n      <td>0 days 00:21:54.181567</td>\n      <td>67</td>\n      <td>40</td>\n      <td>43</td>\n      <td>COMPLETE</td>\n    </tr>\n    <tr>\n      <th>27</th>\n      <td>27</td>\n      <td>1.177852</td>\n      <td>2022-09-04 10:09:06.969276</td>\n      <td>2022-09-04 10:30:51.226652</td>\n      <td>0 days 00:21:44.257376</td>\n      <td>51</td>\n      <td>76</td>\n      <td>23</td>\n      <td>COMPLETE</td>\n    </tr>\n    <tr>\n      <th>28</th>\n      <td>28</td>\n      <td>0.693159</td>\n      <td>2022-09-04 10:31:14.113821</td>\n      <td>2022-09-04 10:57:24.312152</td>\n      <td>0 days 00:26:10.198331</td>\n      <td>65</td>\n      <td>45</td>\n      <td>40</td>\n      <td>COMPLETE</td>\n    </tr>\n    <tr>\n      <th>29</th>\n      <td>29</td>\n      <td>0.769361</td>\n      <td>2022-09-04 10:57:58.305780</td>\n      <td>2022-09-04 11:20:07.651262</td>\n      <td>0 days 00:22:09.345482</td>\n      <td>78</td>\n      <td>13</td>\n      <td>59</td>\n      <td>COMPLETE</td>\n    </tr>\n    <tr>\n      <th>30</th>\n      <td>30</td>\n      <td>1.064619</td>\n      <td>2022-09-04 11:21:06.404602</td>\n      <td>2022-09-04 11:42:50.988884</td>\n      <td>0 days 00:21:44.584282</td>\n      <td>48</td>\n      <td>27</td>\n      <td>75</td>\n      <td>COMPLETE</td>\n    </tr>\n    <tr>\n      <th>31</th>\n      <td>31</td>\n      <td>0.389054</td>\n      <td>2022-09-04 11:43:22.020606</td>\n      <td>2022-09-04 12:06:25.024458</td>\n      <td>0 days 00:23:03.003852</td>\n      <td>88</td>\n      <td>17</td>\n      <td>45</td>\n      <td>COMPLETE</td>\n    </tr>\n    <tr>\n      <th>32</th>\n      <td>32</td>\n      <td>0.321160</td>\n      <td>2022-09-04 12:07:31.049776</td>\n      <td>2022-09-04 12:27:14.084850</td>\n      <td>0 days 00:19:43.035074</td>\n      <td>97</td>\n      <td>16</td>\n      <td>37</td>\n      <td>COMPLETE</td>\n    </tr>\n    <tr>\n      <th>33</th>\n      <td>33</td>\n      <td>0.282381</td>\n      <td>2022-09-04 12:27:52.022291</td>\n      <td>2022-09-04 12:49:12.466532</td>\n      <td>0 days 00:21:20.444241</td>\n      <td>138</td>\n      <td>0</td>\n      <td>12</td>\n      <td>COMPLETE</td>\n    </tr>\n    <tr>\n      <th>34</th>\n      <td>34</td>\n      <td>0.498732</td>\n      <td>2022-09-04 12:49:35.134614</td>\n      <td>2022-09-04 13:09:41.173255</td>\n      <td>0 days 00:20:06.038641</td>\n      <td>131</td>\n      <td>6</td>\n      <td>13</td>\n      <td>COMPLETE</td>\n    </tr>\n    <tr>\n      <th>35</th>\n      <td>35</td>\n      <td>0.269695</td>\n      <td>2022-09-04 13:10:27.521329</td>\n      <td>2022-09-04 13:29:11.457140</td>\n      <td>0 days 00:18:43.935811</td>\n      <td>142</td>\n      <td>1</td>\n      <td>7</td>\n      <td>COMPLETE</td>\n    </tr>\n    <tr>\n      <th>36</th>\n      <td>36</td>\n      <td>NaN</td>\n      <td>2022-09-04 13:29:44.590324</td>\n      <td>NaT</td>\n      <td>NaT</td>\n      <td>149</td>\n      <td>0</td>\n      <td>1</td>\n      <td>RUNNING</td>\n    </tr>\n    <tr>\n      <th>37</th>\n      <td>37</td>\n      <td>0.336429</td>\n      <td>2022-09-04 13:30:15.371125</td>\n      <td>2022-09-04 14:02:08.423139</td>\n      <td>0 days 00:31:53.052014</td>\n      <td>150</td>\n      <td>0</td>\n      <td>0</td>\n      <td>COMPLETE</td>\n    </tr>\n    <tr>\n      <th>38</th>\n      <td>38</td>\n      <td>0.065907</td>\n      <td>2022-09-04 14:03:27.851770</td>\n      <td>2022-09-04 14:21:06.247552</td>\n      <td>0 days 00:17:38.395782</td>\n      <td>147</td>\n      <td>3</td>\n      <td>0</td>\n      <td>COMPLETE</td>\n    </tr>\n    <tr>\n      <th>39</th>\n      <td>39</td>\n      <td>0.415165</td>\n      <td>2022-09-04 14:21:44.284945</td>\n      <td>2022-09-04 14:40:35.717378</td>\n      <td>0 days 00:18:51.432433</td>\n      <td>133</td>\n      <td>10</td>\n      <td>7</td>\n      <td>COMPLETE</td>\n    </tr>\n    <tr>\n      <th>40</th>\n      <td>40</td>\n      <td>0.319701</td>\n      <td>2022-09-04 14:42:03.136536</td>\n      <td>2022-09-04 14:58:56.026256</td>\n      <td>0 days 00:16:52.889720</td>\n      <td>135</td>\n      <td>0</td>\n      <td>15</td>\n      <td>COMPLETE</td>\n    </tr>\n    <tr>\n      <th>41</th>\n      <td>41</td>\n      <td>0.475061</td>\n      <td>2022-09-04 14:59:20.249321</td>\n      <td>2022-09-04 15:17:03.807726</td>\n      <td>0 days 00:17:43.558405</td>\n      <td>133</td>\n      <td>0</td>\n      <td>17</td>\n      <td>COMPLETE</td>\n    </tr>\n    <tr>\n      <th>42</th>\n      <td>42</td>\n      <td>0.574561</td>\n      <td>2022-09-04 15:17:23.998944</td>\n      <td>2022-09-04 15:38:23.128084</td>\n      <td>0 days 00:20:59.129140</td>\n      <td>111</td>\n      <td>14</td>\n      <td>25</td>\n      <td>COMPLETE</td>\n    </tr>\n    <tr>\n      <th>43</th>\n      <td>43</td>\n      <td>0.404939</td>\n      <td>2022-09-04 15:38:41.785925</td>\n      <td>2022-09-04 16:00:45.646637</td>\n      <td>0 days 00:22:03.860712</td>\n      <td>136</td>\n      <td>8</td>\n      <td>6</td>\n      <td>COMPLETE</td>\n    </tr>\n    <tr>\n      <th>44</th>\n      <td>44</td>\n      <td>0.478143</td>\n      <td>2022-09-04 16:01:19.341894</td>\n      <td>2022-09-04 16:20:20.477041</td>\n      <td>0 days 00:19:01.135147</td>\n      <td>130</td>\n      <td>5</td>\n      <td>15</td>\n      <td>COMPLETE</td>\n    </tr>\n    <tr>\n      <th>45</th>\n      <td>45</td>\n      <td>0.674746</td>\n      <td>2022-09-04 16:20:48.700523</td>\n      <td>2022-09-04 16:39:28.804329</td>\n      <td>0 days 00:18:40.103806</td>\n      <td>107</td>\n      <td>14</td>\n      <td>29</td>\n      <td>COMPLETE</td>\n    </tr>\n    <tr>\n      <th>46</th>\n      <td>46</td>\n      <td>2.358120</td>\n      <td>2022-09-04 16:39:51.287105</td>\n      <td>2022-09-04 16:57:23.800778</td>\n      <td>0 days 00:17:32.513673</td>\n      <td>31</td>\n      <td>114</td>\n      <td>5</td>\n      <td>COMPLETE</td>\n    </tr>\n  </tbody>\n</table>\n</div>",
      "text/plain": "    number     value             datetime_start          datetime_complete  \\\n0        0  2.501745 2022-09-03 23:43:22.501738 2022-09-04 00:01:26.354582   \n1        1  0.765122 2022-09-04 00:01:55.529998 2022-09-04 00:25:23.703367   \n2        2  1.971633 2022-09-04 00:26:54.939395 2022-09-04 00:47:31.185316   \n3        3  0.669338 2022-09-04 00:48:09.240701 2022-09-04 01:21:30.272023   \n4        4  0.627134 2022-09-04 01:23:48.263438 2022-09-04 01:50:13.916778   \n5        5  1.034776 2022-09-04 01:50:46.182960 2022-09-04 02:15:10.242480   \n6        6  2.531494 2022-09-04 02:15:46.766809 2022-09-04 02:39:22.789792   \n7        7  0.690401 2022-09-04 02:41:38.435672 2022-09-04 03:02:39.289278   \n8        8  0.923335 2022-09-04 03:03:53.440194 2022-09-04 03:26:39.831281   \n9        9  0.645044 2022-09-04 03:27:19.074550 2022-09-04 03:49:19.618357   \n10      10  1.745189 2022-09-04 03:50:14.880370 2022-09-04 04:07:59.978904   \n11      11  1.207636 2022-09-04 04:08:33.645681 2022-09-04 04:31:41.645532   \n12      12  1.127566 2022-09-04 04:32:39.609302 2022-09-04 04:53:31.412090   \n13      13  0.859750 2022-09-04 04:54:11.372302 2022-09-04 05:16:01.751245   \n14      14  0.847440 2022-09-04 05:16:29.015656 2022-09-04 05:38:33.888355   \n15      15  1.381770 2022-09-04 05:39:20.337596 2022-09-04 05:59:29.121829   \n16      16  0.814193 2022-09-04 06:00:03.269681 2022-09-04 06:23:08.494993   \n17      17  1.809965 2022-09-04 06:23:48.367974 2022-09-04 06:44:28.746998   \n18      18  1.202258 2022-09-04 06:45:08.670075 2022-09-04 07:06:33.534624   \n19      19  0.765357 2022-09-04 07:07:03.844835 2022-09-04 07:30:15.930612   \n20      20  1.935961 2022-09-04 07:30:53.631613 2022-09-04 07:49:35.985238   \n21      21  0.643017 2022-09-04 07:50:02.173665 2022-09-04 08:11:41.134625   \n22      22  0.614106 2022-09-04 08:12:15.957128 2022-09-04 08:35:44.499687   \n23      23  0.856685 2022-09-04 08:36:24.434656 2022-09-04 09:01:13.148120   \n24      24  1.149992 2022-09-04 09:01:42.965353 2022-09-04 09:22:50.097560   \n25      25  0.927107 2022-09-04 09:23:13.341603 2022-09-04 09:46:06.145241   \n26      26  0.887931 2022-09-04 09:46:53.560655 2022-09-04 10:08:47.742222   \n27      27  1.177852 2022-09-04 10:09:06.969276 2022-09-04 10:30:51.226652   \n28      28  0.693159 2022-09-04 10:31:14.113821 2022-09-04 10:57:24.312152   \n29      29  0.769361 2022-09-04 10:57:58.305780 2022-09-04 11:20:07.651262   \n30      30  1.064619 2022-09-04 11:21:06.404602 2022-09-04 11:42:50.988884   \n31      31  0.389054 2022-09-04 11:43:22.020606 2022-09-04 12:06:25.024458   \n32      32  0.321160 2022-09-04 12:07:31.049776 2022-09-04 12:27:14.084850   \n33      33  0.282381 2022-09-04 12:27:52.022291 2022-09-04 12:49:12.466532   \n34      34  0.498732 2022-09-04 12:49:35.134614 2022-09-04 13:09:41.173255   \n35      35  0.269695 2022-09-04 13:10:27.521329 2022-09-04 13:29:11.457140   \n36      36       NaN 2022-09-04 13:29:44.590324                        NaT   \n37      37  0.336429 2022-09-04 13:30:15.371125 2022-09-04 14:02:08.423139   \n38      38  0.065907 2022-09-04 14:03:27.851770 2022-09-04 14:21:06.247552   \n39      39  0.415165 2022-09-04 14:21:44.284945 2022-09-04 14:40:35.717378   \n40      40  0.319701 2022-09-04 14:42:03.136536 2022-09-04 14:58:56.026256   \n41      41  0.475061 2022-09-04 14:59:20.249321 2022-09-04 15:17:03.807726   \n42      42  0.574561 2022-09-04 15:17:23.998944 2022-09-04 15:38:23.128084   \n43      43  0.404939 2022-09-04 15:38:41.785925 2022-09-04 16:00:45.646637   \n44      44  0.478143 2022-09-04 16:01:19.341894 2022-09-04 16:20:20.477041   \n45      45  0.674746 2022-09-04 16:20:48.700523 2022-09-04 16:39:28.804329   \n46      46  2.358120 2022-09-04 16:39:51.287105 2022-09-04 16:57:23.800778   \n\n                 duration  params_body_blue  params_body_green  \\\n0  0 days 00:18:03.852844                 3                  0   \n1  0 days 00:23:28.173369                17                 67   \n2  0 days 00:20:36.245921                27                  9   \n3  0 days 00:33:21.031322                88                 13   \n4  0 days 00:26:25.653340                50                 45   \n5  0 days 00:24:24.059520                89                  9   \n6  0 days 00:23:36.022983                 2                  1   \n7  0 days 00:21:00.853606                77                 54   \n8  0 days 00:22:46.391087                45                 73   \n9  0 days 00:22:00.543807                85                 19   \n10 0 days 00:17:45.098534                14                136   \n11 0 days 00:23:07.999851                29                 30   \n12 0 days 00:20:51.802788                28                 34   \n13 0 days 00:21:50.378943                74                 43   \n14 0 days 00:22:04.872699                54                 23   \n15 0 days 00:20:08.784233                26                 20   \n16 0 days 00:23:05.225312                45                 51   \n17 0 days 00:20:40.379024                47                 93   \n18 0 days 00:21:24.864549                29                 87   \n19 0 days 00:23:12.085777                46                 40   \n20 0 days 00:18:42.353625                25                  5   \n21 0 days 00:21:38.960960                80                 21   \n22 0 days 00:23:28.542559                85                 25   \n23 0 days 00:24:48.713464                73                 54   \n24 0 days 00:21:07.132207                41                 27   \n25 0 days 00:22:52.803638                55                 32   \n26 0 days 00:21:54.181567                67                 40   \n27 0 days 00:21:44.257376                51                 76   \n28 0 days 00:26:10.198331                65                 45   \n29 0 days 00:22:09.345482                78                 13   \n30 0 days 00:21:44.584282                48                 27   \n31 0 days 00:23:03.003852                88                 17   \n32 0 days 00:19:43.035074                97                 16   \n33 0 days 00:21:20.444241               138                  0   \n34 0 days 00:20:06.038641               131                  6   \n35 0 days 00:18:43.935811               142                  1   \n36                    NaT               149                  0   \n37 0 days 00:31:53.052014               150                  0   \n38 0 days 00:17:38.395782               147                  3   \n39 0 days 00:18:51.432433               133                 10   \n40 0 days 00:16:52.889720               135                  0   \n41 0 days 00:17:43.558405               133                  0   \n42 0 days 00:20:59.129140               111                 14   \n43 0 days 00:22:03.860712               136                  8   \n44 0 days 00:19:01.135147               130                  5   \n45 0 days 00:18:40.103806               107                 14   \n46 0 days 00:17:32.513673                31                114   \n\n    params_body_red     state  \n0               147  COMPLETE  \n1                66  COMPLETE  \n2               114  COMPLETE  \n3                49  COMPLETE  \n4                55  COMPLETE  \n5                52  COMPLETE  \n6               147  COMPLETE  \n7                19  COMPLETE  \n8                32  COMPLETE  \n9                46  COMPLETE  \n10                0  COMPLETE  \n11               91  COMPLETE  \n12               88  COMPLETE  \n13               33  COMPLETE  \n14               73  COMPLETE  \n15              104  COMPLETE  \n16               54  COMPLETE  \n17               10  COMPLETE  \n18               34  COMPLETE  \n19               64  COMPLETE  \n20              120  COMPLETE  \n21               49  COMPLETE  \n22               40  COMPLETE  \n23               23  COMPLETE  \n24               82  COMPLETE  \n25               63  COMPLETE  \n26               43  COMPLETE  \n27               23  COMPLETE  \n28               40  COMPLETE  \n29               59  COMPLETE  \n30               75  COMPLETE  \n31               45  COMPLETE  \n32               37  COMPLETE  \n33               12  COMPLETE  \n34               13  COMPLETE  \n35                7  COMPLETE  \n36                1   RUNNING  \n37                0  COMPLETE  \n38                0  COMPLETE  \n39                7  COMPLETE  \n40               15  COMPLETE  \n41               17  COMPLETE  \n42               25  COMPLETE  \n43                6  COMPLETE  \n44               15  COMPLETE  \n45               29  COMPLETE  \n46                5  COMPLETE  "
     },
     "execution_count": 4,
     "metadata": {},
     "output_type": "execute_result"
    }
   ],
   "source": [
    "study.trials_dataframe()"
   ]
  },
  {
   "cell_type": "code",
   "execution_count": 5,
   "metadata": {},
   "outputs": [],
   "source": [
    "### create trial\n",
    "trial = study.ask()"
   ]
  },
  {
   "cell_type": "code",
   "execution_count": 6,
   "metadata": {},
   "outputs": [
    {
     "data": {
      "text/plain": "47"
     },
     "execution_count": 6,
     "metadata": {},
     "output_type": "execute_result"
    }
   ],
   "source": [
    "new_dir = f'/epoch_{trial.number}'\n",
    "out_dir = PATH_LOG + new_dir\n",
    "os.mkdir( out_dir )\n",
    "trial.number"
   ]
  },
  {
   "cell_type": "code",
   "execution_count": 7,
   "metadata": {},
   "outputs": [],
   "source": [
    "### execute ot2_protocol.py\n",
    "create_protocol(trial, PATH_SCRIPT, out_dir)"
   ]
  },
  {
   "cell_type": "markdown",
   "metadata": {},
   "source": [
    "- 吸光度の入力!!!"
   ]
  },
  {
   "cell_type": "code",
   "execution_count": null,
   "metadata": {},
   "outputs": [],
   "source": [
    "# execute evaluate.py & get score\n",
    "score = evaluate(trial, PATH_SCRIPT, out_dir)"
   ]
  },
  {
   "cell_type": "code",
   "execution_count": null,
   "metadata": {},
   "outputs": [],
   "source": [
    "study.tell(trial, float(score))"
   ]
  },
  {
   "cell_type": "code",
   "execution_count": null,
   "metadata": {},
   "outputs": [],
   "source": [
    "df = study.trials_dataframe()\n",
    "df"
   ]
  },
  {
   "cell_type": "code",
   "execution_count": null,
   "metadata": {},
   "outputs": [],
   "source": [
    "print(study.best_params)\n",
    "print(study.best_value)"
   ]
  },
  {
   "cell_type": "code",
   "execution_count": null,
   "metadata": {},
   "outputs": [],
   "source": [
    "plt.plot( df.value )"
   ]
  },
  {
   "cell_type": "code",
   "execution_count": null,
   "metadata": {},
   "outputs": [],
   "source": [
    "csv_dir = PATH_LOG + '/summary' \n",
    "df.to_csv(csv_dir + f'/epoch_{trial.number}' )"
   ]
  },
  {
   "cell_type": "code",
   "execution_count": null,
   "metadata": {},
   "outputs": [],
   "source": []
  }
 ],
 "metadata": {
  "kernelspec": {
   "display_name": "Python 3 (ipykernel)",
   "language": "python",
   "name": "python3"
  },
  "language_info": {
   "codemirror_mode": {
    "name": "ipython",
    "version": 3
   },
   "file_extension": ".py",
   "mimetype": "text/x-python",
   "name": "python",
   "nbconvert_exporter": "python",
   "pygments_lexer": "ipython3",
   "version": "3.10.4"
  },
  "orig_nbformat": 2
 },
 "nbformat": 4,
 "nbformat_minor": 2
}
