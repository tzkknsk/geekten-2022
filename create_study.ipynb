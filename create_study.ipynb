{
 "cells": [
  {
   "cell_type": "code",
   "execution_count": 1,
   "metadata": {},
   "outputs": [],
   "source": [
    "#### Module\n",
    "import os\n",
    "import subprocess\n",
    "\n",
    "import pandas as pd\n",
    "import optuna\n",
    "\n",
    "from objective import create_protocol, evaluate"
   ]
  },
  {
   "cell_type": "code",
   "execution_count": 2,
   "metadata": {},
   "outputs": [],
   "source": [
    "### config\n",
    "PATH_LOG = os.getcwd() + '/data'\n",
    "PATH_SCRIPT = os.getcwd() + '/source'"
   ]
  },
  {
   "cell_type": "code",
   "execution_count": 3,
   "metadata": {},
   "outputs": [
    {
     "name": "stderr",
     "output_type": "stream",
     "text": [
      "\u001b[32m[I 2022-09-03 23:43:21,060]\u001b[0m A new study created in RDB with name: study_turquoise\u001b[0m\n"
     ]
    }
   ],
   "source": [
    "### create study\n",
    "study = optuna.create_study(storage=f\"sqlite:///{PATH_LOG}/geekten.db\", study_name=\"study_turquoise\")"
   ]
  },
  {
   "cell_type": "code",
   "execution_count": 4,
   "metadata": {},
   "outputs": [],
   "source": [
    "### create trial\n",
    "trial = study.ask()\n",
    "\n",
    "new_dir = f'/epoch_{trial.number}'\n",
    "out_dir = PATH_LOG + new_dir\n",
    "os.mkdir( out_dir )"
   ]
  },
  {
   "cell_type": "code",
   "execution_count": 5,
   "metadata": {},
   "outputs": [],
   "source": [
    "### execute ot2_protocol.py\n",
    "create_protocol(trial, PATH_SCRIPT, out_dir)"
   ]
  },
  {
   "cell_type": "markdown",
   "metadata": {},
   "source": [
    "吸光度データを対象ディレクトリに移す"
   ]
  },
  {
   "cell_type": "code",
   "execution_count": 6,
   "metadata": {},
   "outputs": [
    {
     "name": "stdout",
     "output_type": "stream",
     "text": [
      "b'2.501744784094348\\n'\n"
     ]
    }
   ],
   "source": [
    "# execute evaluate.py & get score\n",
    "score = evaluate(trial, PATH_SCRIPT, out_dir)\n",
    "print(score)"
   ]
  },
  {
   "cell_type": "code",
   "execution_count": 7,
   "metadata": {},
   "outputs": [
    {
     "data": {
      "text/plain": "FrozenTrial(number=0, values=[2.501744784094348], datetime_start=datetime.datetime(2022, 9, 3, 23, 43, 22, 501738), datetime_complete=datetime.datetime(2022, 9, 4, 0, 1, 26, 354582), params={'body_red': 147, 'body_green': 0, 'body_blue': 3}, distributions={'body_red': IntDistribution(high=150, log=False, low=0, step=1), 'body_green': IntDistribution(high=3, log=False, low=0, step=1), 'body_blue': IntDistribution(high=3, log=False, low=3, step=1)}, user_attrs={}, system_attrs={}, intermediate_values={}, trial_id=1, state=TrialState.COMPLETE, value=None)"
     },
     "execution_count": 7,
     "metadata": {},
     "output_type": "execute_result"
    }
   ],
   "source": [
    "study.tell(trial, float(score))"
   ]
  },
  {
   "cell_type": "code",
   "execution_count": 8,
   "metadata": {},
   "outputs": [
    {
     "data": {
      "text/html": "<div>\n<style scoped>\n    .dataframe tbody tr th:only-of-type {\n        vertical-align: middle;\n    }\n\n    .dataframe tbody tr th {\n        vertical-align: top;\n    }\n\n    .dataframe thead th {\n        text-align: right;\n    }\n</style>\n<table border=\"1\" class=\"dataframe\">\n  <thead>\n    <tr style=\"text-align: right;\">\n      <th></th>\n      <th>number</th>\n      <th>value</th>\n      <th>datetime_start</th>\n      <th>datetime_complete</th>\n      <th>duration</th>\n      <th>params_body_blue</th>\n      <th>params_body_green</th>\n      <th>params_body_red</th>\n      <th>state</th>\n    </tr>\n  </thead>\n  <tbody>\n    <tr>\n      <th>0</th>\n      <td>0</td>\n      <td>2.501745</td>\n      <td>2022-09-03 23:43:22.501738</td>\n      <td>2022-09-04 00:01:26.354582</td>\n      <td>0 days 00:18:03.852844</td>\n      <td>3</td>\n      <td>0</td>\n      <td>147</td>\n      <td>COMPLETE</td>\n    </tr>\n  </tbody>\n</table>\n</div>",
      "text/plain": "   number     value             datetime_start          datetime_complete  \\\n0       0  2.501745 2022-09-03 23:43:22.501738 2022-09-04 00:01:26.354582   \n\n                duration  params_body_blue  params_body_green  \\\n0 0 days 00:18:03.852844                 3                  0   \n\n   params_body_red     state  \n0              147  COMPLETE  "
     },
     "execution_count": 8,
     "metadata": {},
     "output_type": "execute_result"
    }
   ],
   "source": [
    "df = study.trials_dataframe()\n",
    "df"
   ]
  },
  {
   "cell_type": "code",
   "execution_count": 9,
   "metadata": {},
   "outputs": [
    {
     "name": "stdout",
     "output_type": "stream",
     "text": [
      "{'body_blue': 3, 'body_green': 0, 'body_red': 147}\n",
      "2.501744784094348\n"
     ]
    }
   ],
   "source": [
    "print(study.best_params)\n",
    "print(study.best_value)"
   ]
  },
  {
   "cell_type": "code",
   "execution_count": 10,
   "metadata": {},
   "outputs": [],
   "source": [
    "csv_dir = PATH_LOG + '/summary' \n",
    "os.mkdir( csv_dir )\n",
    "df.to_csv(csv_dir + f'/epoch_{trial.number}' )"
   ]
  },
  {
   "cell_type": "code",
   "execution_count": null,
   "metadata": {},
   "outputs": [],
   "source": []
  }
 ],
 "metadata": {
  "kernelspec": {
   "display_name": "Python 3 (ipykernel)",
   "language": "python",
   "name": "python3"
  },
  "language_info": {
   "codemirror_mode": {
    "name": "ipython",
    "version": 3
   },
   "file_extension": ".py",
   "mimetype": "text/x-python",
   "name": "python",
   "nbconvert_exporter": "python",
   "pygments_lexer": "ipython3",
   "version": "3.10.4"
  },
  "orig_nbformat": 2
 },
 "nbformat": 4,
 "nbformat_minor": 2
}
